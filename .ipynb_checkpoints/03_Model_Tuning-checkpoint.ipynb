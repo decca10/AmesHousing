{
 "cells": [
  {
   "cell_type": "markdown",
   "metadata": {},
   "source": [
    "# Model Tuning\n",
    "\n",
    "In the Ames MLR notebook, I created a model called feamod based on a MLR algorithm built with engineered features.  Here I will fine tune the model and apply some regularization techniques.  Then change the model accordingly.\n",
    "\n",
    "- [01-Prep the data](#section1)\n",
    "- [02-Regularization](#section2)\n",
    "    - [2a_Scale our data](#section2a)\n",
    "    - [2b_Reg by Ridge](#section2b)\n",
    "    - [2c_Reg by Lasso](#section2c)\n",
    "    - [2d_Reg by ElasticNet](#section2d)\n",
    "- [03-Fine tune hyperparamaters](#section3)\n",
    "    - [3a_Linear Regression Pipeline](#section3a)\n",
    "    - [3b_RidgeCV Pipeline](#section3b)\n",
    "    - [3c_LassoCV Pipeline](#section3c)\n",
    "    - [3d_ElasticNetCV Pipeline](#section3d)\n",
    "    - [3e_Nearest Neighbor Pipeline](#section3e)\n",
    "- [04-Indentify a production model](#section4)\n",
    "  "
   ]
  },
  {
   "cell_type": "markdown",
   "metadata": {},
   "source": [
    "## 01-Prep the data. <a class=\"anchor\" id=\"section1\"></a>"
   ]
  },
  {
   "cell_type": "code",
   "execution_count": 1,
   "metadata": {},
   "outputs": [],
   "source": [
    "import pandas as pd\n",
    "import numpy as np\n",
    "import matplotlib.pyplot as plt\n",
    "import seaborn as sns\n",
    "\n",
    "from sklearn.neighbors import KNeighborsClassifier\n",
    "from sklearn.model_selection import train_test_split,GridSearchCV\n",
    "from sklearn.preprocessing import StandardScaler,PolynomialFeatures\n",
    "from sklearn.pipeline import Pipeline\n",
    "from sklearn.linear_model import LinearRegression, Ridge,RidgeCV, Lasso, LassoCV, ElasticNet,ElasticNetCV\n",
    "from sklearn import metrics"
   ]
  },
  {
   "cell_type": "code",
   "execution_count": 2,
   "metadata": {},
   "outputs": [],
   "source": [
    "#recall our feamod model\n",
    "%store -r X\n",
    "%store -r y\n",
    "%store -r feamod"
   ]
  },
  {
   "cell_type": "code",
   "execution_count": 3,
   "metadata": {},
   "outputs": [],
   "source": [
    "X_train,X_test,y_train,y_test = train_test_split(X,y,random_state=42)"
   ]
  },
  {
   "cell_type": "code",
   "execution_count": 4,
   "metadata": {},
   "outputs": [
    {
     "name": "stdout",
     "output_type": "stream",
     "text": [
      "Feamod Train Score: 0.8341370595763211\n",
      "Feamod Test Score: 0.8661616499019615\n"
     ]
    }
   ],
   "source": [
    "#Establishing our baseline score:\n",
    "print(f'Feamod Train Score: {feamod.score(X_train,y_train)}')\n",
    "print(f'Feamod Test Score: {feamod.score(X_test,y_test)}')\n",
    "#which is 0.866 for Test"
   ]
  },
  {
   "cell_type": "code",
   "execution_count": 5,
   "metadata": {},
   "outputs": [
    {
     "name": "stdout",
     "output_type": "stream",
     "text": [
      "Feamod Train Score: 0.8341370595763211\n",
      "Feamod Test Score: 0.8661616499019615\n"
     ]
    }
   ],
   "source": [
    "#Establishing our baseline score:\n",
    "print(f'Feamod Train Score: {feamod.score(X_train,y_train)}')\n",
    "print(f'Feamod Test Score: {feamod.score(X_test,y_test)}')\n",
    "#which is 0.866 for Test"
   ]
  },
  {
   "cell_type": "code",
   "execution_count": 6,
   "metadata": {},
   "outputs": [
    {
     "data": {
      "text/html": [
       "<div>\n",
       "<style scoped>\n",
       "    .dataframe tbody tr th:only-of-type {\n",
       "        vertical-align: middle;\n",
       "    }\n",
       "\n",
       "    .dataframe tbody tr th {\n",
       "        vertical-align: top;\n",
       "    }\n",
       "\n",
       "    .dataframe thead th {\n",
       "        text-align: right;\n",
       "    }\n",
       "</style>\n",
       "<table border=\"1\" class=\"dataframe\">\n",
       "  <thead>\n",
       "    <tr style=\"text-align: right;\">\n",
       "      <th></th>\n",
       "      <th>col_name</th>\n",
       "      <th>coef</th>\n",
       "    </tr>\n",
       "  </thead>\n",
       "  <tbody>\n",
       "    <tr>\n",
       "      <td>24</td>\n",
       "      <td>allba</td>\n",
       "      <td>3.979742e+04</td>\n",
       "    </tr>\n",
       "    <tr>\n",
       "      <td>18</td>\n",
       "      <td>Neighborhood_NridgHt</td>\n",
       "      <td>3.144455e+04</td>\n",
       "    </tr>\n",
       "    <tr>\n",
       "      <td>23</td>\n",
       "      <td>Bsmt Exposure_Gd</td>\n",
       "      <td>2.168242e+04</td>\n",
       "    </tr>\n",
       "    <tr>\n",
       "      <td>0</td>\n",
       "      <td>Overall Qual</td>\n",
       "      <td>1.669795e+04</td>\n",
       "    </tr>\n",
       "    <tr>\n",
       "      <td>7</td>\n",
       "      <td>TotRms AbvGrd</td>\n",
       "      <td>1.420503e+04</td>\n",
       "    </tr>\n",
       "    <tr>\n",
       "      <td>16</td>\n",
       "      <td>Foundation_PConc</td>\n",
       "      <td>9.393667e+03</td>\n",
       "    </tr>\n",
       "    <tr>\n",
       "      <td>3</td>\n",
       "      <td>Garage Cars</td>\n",
       "      <td>7.704099e+03</td>\n",
       "    </tr>\n",
       "    <tr>\n",
       "      <td>8</td>\n",
       "      <td>Fireplaces</td>\n",
       "      <td>5.677766e+03</td>\n",
       "    </tr>\n",
       "    <tr>\n",
       "      <td>22</td>\n",
       "      <td>Fireplace Qu_Gd</td>\n",
       "      <td>3.212567e+03</td>\n",
       "    </tr>\n",
       "    <tr>\n",
       "      <td>21</td>\n",
       "      <td>Fireplace Qu_Gd</td>\n",
       "      <td>3.212567e+03</td>\n",
       "    </tr>\n",
       "    <tr>\n",
       "      <td>25</td>\n",
       "      <td>beba</td>\n",
       "      <td>4.502641e+02</td>\n",
       "    </tr>\n",
       "    <tr>\n",
       "      <td>2</td>\n",
       "      <td>Garage Area</td>\n",
       "      <td>2.238285e+01</td>\n",
       "    </tr>\n",
       "    <tr>\n",
       "      <td>1</td>\n",
       "      <td>Gr Liv Area</td>\n",
       "      <td>1.469030e+01</td>\n",
       "    </tr>\n",
       "    <tr>\n",
       "      <td>4</td>\n",
       "      <td>Total Bsmt SF</td>\n",
       "      <td>9.265151e+00</td>\n",
       "    </tr>\n",
       "    <tr>\n",
       "      <td>5</td>\n",
       "      <td>1st Flr SF</td>\n",
       "      <td>2.834326e+00</td>\n",
       "    </tr>\n",
       "    <tr>\n",
       "      <td>27</td>\n",
       "      <td>fin_sqft</td>\n",
       "      <td>-2.396027e+01</td>\n",
       "    </tr>\n",
       "    <tr>\n",
       "      <td>14</td>\n",
       "      <td>Mas Vnr Type_None</td>\n",
       "      <td>-1.067628e+02</td>\n",
       "    </tr>\n",
       "    <tr>\n",
       "      <td>17</td>\n",
       "      <td>BsmtFin Type 1_GLQ</td>\n",
       "      <td>-2.186237e+02</td>\n",
       "    </tr>\n",
       "    <tr>\n",
       "      <td>6</td>\n",
       "      <td>Full Bath</td>\n",
       "      <td>-7.465740e+02</td>\n",
       "    </tr>\n",
       "    <tr>\n",
       "      <td>13</td>\n",
       "      <td>Garage Finish_Unf</td>\n",
       "      <td>-2.114613e+03</td>\n",
       "    </tr>\n",
       "    <tr>\n",
       "      <td>12</td>\n",
       "      <td>Bsmt Qual_TA</td>\n",
       "      <td>-2.862506e+03</td>\n",
       "    </tr>\n",
       "    <tr>\n",
       "      <td>15</td>\n",
       "      <td>Garage Type_Detchd</td>\n",
       "      <td>-4.380313e+03</td>\n",
       "    </tr>\n",
       "    <tr>\n",
       "      <td>11</td>\n",
       "      <td>Kitchen Qual_TA</td>\n",
       "      <td>-7.308705e+03</td>\n",
       "    </tr>\n",
       "    <tr>\n",
       "      <td>20</td>\n",
       "      <td>Exter Qual_Gd</td>\n",
       "      <td>-1.763273e+04</td>\n",
       "    </tr>\n",
       "    <tr>\n",
       "      <td>19</td>\n",
       "      <td>Exter Qual_Gd</td>\n",
       "      <td>-1.763273e+04</td>\n",
       "    </tr>\n",
       "    <tr>\n",
       "      <td>10</td>\n",
       "      <td>Exter Qual_TA</td>\n",
       "      <td>-2.050893e+04</td>\n",
       "    </tr>\n",
       "    <tr>\n",
       "      <td>9</td>\n",
       "      <td>Exter Qual_TA</td>\n",
       "      <td>-2.050893e+04</td>\n",
       "    </tr>\n",
       "    <tr>\n",
       "      <td>28</td>\n",
       "      <td>house_to_lot_ratio</td>\n",
       "      <td>-4.020818e+04</td>\n",
       "    </tr>\n",
       "    <tr>\n",
       "      <td>26</td>\n",
       "      <td>area_per_room</td>\n",
       "      <td>-1.070911e+07</td>\n",
       "    </tr>\n",
       "  </tbody>\n",
       "</table>\n",
       "</div>"
      ],
      "text/plain": [
       "                col_name          coef\n",
       "24                 allba  3.979742e+04\n",
       "18  Neighborhood_NridgHt  3.144455e+04\n",
       "23      Bsmt Exposure_Gd  2.168242e+04\n",
       "0           Overall Qual  1.669795e+04\n",
       "7          TotRms AbvGrd  1.420503e+04\n",
       "16      Foundation_PConc  9.393667e+03\n",
       "3            Garage Cars  7.704099e+03\n",
       "8             Fireplaces  5.677766e+03\n",
       "22       Fireplace Qu_Gd  3.212567e+03\n",
       "21       Fireplace Qu_Gd  3.212567e+03\n",
       "25                  beba  4.502641e+02\n",
       "2            Garage Area  2.238285e+01\n",
       "1            Gr Liv Area  1.469030e+01\n",
       "4          Total Bsmt SF  9.265151e+00\n",
       "5             1st Flr SF  2.834326e+00\n",
       "27              fin_sqft -2.396027e+01\n",
       "14     Mas Vnr Type_None -1.067628e+02\n",
       "17    BsmtFin Type 1_GLQ -2.186237e+02\n",
       "6              Full Bath -7.465740e+02\n",
       "13     Garage Finish_Unf -2.114613e+03\n",
       "12          Bsmt Qual_TA -2.862506e+03\n",
       "15    Garage Type_Detchd -4.380313e+03\n",
       "11       Kitchen Qual_TA -7.308705e+03\n",
       "20         Exter Qual_Gd -1.763273e+04\n",
       "19         Exter Qual_Gd -1.763273e+04\n",
       "10         Exter Qual_TA -2.050893e+04\n",
       "9          Exter Qual_TA -2.050893e+04\n",
       "28    house_to_lot_ratio -4.020818e+04\n",
       "26         area_per_room -1.070911e+07"
      ]
     },
     "execution_count": 6,
     "metadata": {},
     "output_type": "execute_result"
    }
   ],
   "source": [
    "#Recall our coefficients:\n",
    "%store -r coef_df\n",
    "coef_df"
   ]
  },
  {
   "cell_type": "markdown",
   "metadata": {},
   "source": [
    "Among our lowest negative correlations are `house_to_lot_ratio` and `area_per_room`.  These numbers seem extreme.  But, our strongest correlation relationships of \n",
    "- `allba` : a count of all bathrooms in the house.\n",
    "- `Neighborhood_NridgHt`: the North Ridge Height neighborhood district.\n",
    "- `Bsmt Exposure_Gd`: asement exposure as a walkout or a garden level\n",
    "- `Overall Qual`: an assessment of the overall quality of the house.    \n",
    "\n",
    "seem to be strong relationships.  We will move on to regularization and scaling to see if it improves our model."
   ]
  },
  {
   "cell_type": "markdown",
   "metadata": {},
   "source": [
    "## 02-Regularization. <a class=\"anchor\" id=\"section2\"></a>"
   ]
  },
  {
   "cell_type": "markdown",
   "metadata": {},
   "source": [
    "### 2a. Scale our data. <a class=\"anchor\" id=\"section2a\"></a>"
   ]
  },
  {
   "cell_type": "code",
   "execution_count": 7,
   "metadata": {},
   "outputs": [],
   "source": [
    "sc = StandardScaler()\n",
    "z_train=sc.fit_transform(X_train)\n",
    "z_test=sc.fit_transform(X_test)\n",
    "ss= sc"
   ]
  },
  {
   "cell_type": "code",
   "execution_count": 8,
   "metadata": {},
   "outputs": [
    {
     "name": "stdout",
     "output_type": "stream",
     "text": [
      "Z_train shape is: (1537, 29)\n",
      "y_train shape is: (1537,)\n",
      "Z_test shape is: (513, 29)\n",
      "y_test shape is: (513,)\n"
     ]
    }
   ],
   "source": [
    "print(f'Z_train shape is: {z_train.shape}')\n",
    "print(f'y_train shape is: {y_train.shape}')\n",
    "print(f'Z_test shape is: {z_test.shape}')\n",
    "print(f'y_test shape is: {y_test.shape}')"
   ]
  },
  {
   "cell_type": "code",
   "execution_count": 9,
   "metadata": {},
   "outputs": [
    {
     "data": {
      "text/plain": [
       "LinearRegression()"
      ]
     },
     "execution_count": 9,
     "metadata": {},
     "output_type": "execute_result"
    }
   ],
   "source": [
    "#lets test our z on a Linear Regression model\n",
    "ols = LinearRegression()\n",
    "ols.fit(z_train,y_train)"
   ]
  },
  {
   "cell_type": "code",
   "execution_count": 10,
   "metadata": {},
   "outputs": [
    {
     "name": "stdout",
     "output_type": "stream",
     "text": [
      "OLS Train Score: 0.8341370595763211\n",
      "OLS Test Score: 0.8608147538894233\n"
     ]
    }
   ],
   "source": [
    "print(f'OLS Train Score: {ols.score(z_train,y_train)}')\n",
    "print(f'OLS Test Score: {ols.score(z_test,y_test)}')"
   ]
  },
  {
   "cell_type": "markdown",
   "metadata": {},
   "source": [
    "  __Interpretation:__ Our test score did a little bit worse than the original of 0.866.  Since it is 0.86081, our model is not overfit."
   ]
  },
  {
   "cell_type": "markdown",
   "metadata": {},
   "source": [
    "### 2b Reg by Ridge <a class=\"anchor\" id=\"section2b\"></a>"
   ]
  },
  {
   "cell_type": "code",
   "execution_count": 11,
   "metadata": {},
   "outputs": [
    {
     "data": {
      "text/plain": [
       "Ridge(alpha=10)"
      ]
     },
     "execution_count": 11,
     "metadata": {},
     "output_type": "execute_result"
    }
   ],
   "source": [
    "#Let's regularize with Ridge\n",
    "ridge10 = Ridge(alpha=10)\n",
    "ridge1=Ridge(alpha=1)\n",
    "\n",
    "ridge1.fit(z_train,y_train)\n",
    "ridge10.fit(z_train,y_train)"
   ]
  },
  {
   "cell_type": "code",
   "execution_count": 12,
   "metadata": {},
   "outputs": [
    {
     "name": "stdout",
     "output_type": "stream",
     "text": [
      "Ridge, Alpha=1 Train Score: 0.8341259629781239\n",
      "Ridge, Alpha=1 Test Score: 0.8616230955689395\n",
      "Ridge, Alpha=10 Train Score: 0.8335001428619853\n",
      "Ridge, Alpha=10 Test Score: 0.866513382318678\n"
     ]
    }
   ],
   "source": [
    "print(f'Ridge, Alpha=1 Train Score: {ridge1.score(z_train,y_train)}')\n",
    "print(f'Ridge, Alpha=1 Test Score: {ridge1.score(z_test,y_test)}')\n",
    "print(f'Ridge, Alpha=10 Train Score: {ridge10.score(z_train,y_train)}')\n",
    "print(f'Ridge, Alpha=10 Test Score: {ridge10.score(z_test,y_test)}')"
   ]
  },
  {
   "cell_type": "markdown",
   "metadata": {},
   "source": [
    " __Interpretation:__ Compared to the alpha=1 score, the `alpha10` test score did better.  So we will use that model.  \n",
    " But can we get alpha any better?"
   ]
  },
  {
   "cell_type": "code",
   "execution_count": 13,
   "metadata": {},
   "outputs": [],
   "source": [
    "r_alphas = np.logspace(0,5,100)"
   ]
  },
  {
   "cell_type": "code",
   "execution_count": 14,
   "metadata": {},
   "outputs": [
    {
     "data": {
      "text/plain": [
       "RidgeCV(alphas=array([1.00000000e+00, 1.12332403e+00, 1.26185688e+00, 1.41747416e+00,\n",
       "       1.59228279e+00, 1.78864953e+00, 2.00923300e+00, 2.25701972e+00,\n",
       "       2.53536449e+00, 2.84803587e+00, 3.19926714e+00, 3.59381366e+00,\n",
       "       4.03701726e+00, 4.53487851e+00, 5.09413801e+00, 5.72236766e+00,\n",
       "       6.42807312e+00, 7.22080902e+00, 8.11130831e+00, 9.11162756e+00,\n",
       "       1.02353102e+01, 1.14975700e+0...\n",
       "       6.89261210e+03, 7.74263683e+03, 8.69749003e+03, 9.77009957e+03,\n",
       "       1.09749877e+04, 1.23284674e+04, 1.38488637e+04, 1.55567614e+04,\n",
       "       1.74752840e+04, 1.96304065e+04, 2.20513074e+04, 2.47707636e+04,\n",
       "       2.78255940e+04, 3.12571585e+04, 3.51119173e+04, 3.94420606e+04,\n",
       "       4.43062146e+04, 4.97702356e+04, 5.59081018e+04, 6.28029144e+04,\n",
       "       7.05480231e+04, 7.92482898e+04, 8.90215085e+04, 1.00000000e+05]),\n",
       "        cv=5, scoring='r2')"
      ]
     },
     "execution_count": 14,
     "metadata": {},
     "output_type": "execute_result"
    }
   ],
   "source": [
    "ridge_cv=RidgeCV(alphas=r_alphas,scoring='r2',cv=5)\n",
    "ridge_cv.fit(z_train,y_train)"
   ]
  },
  {
   "cell_type": "code",
   "execution_count": 15,
   "metadata": {},
   "outputs": [
    {
     "name": "stdout",
     "output_type": "stream",
     "text": [
      "RidgeCV Train Score: 0.833815374847529\n",
      "RidgeCV Test Score: 0.8649638237705534\n"
     ]
    }
   ],
   "source": [
    "print(f'RidgeCV Train Score: {ridge_cv.score(z_train,y_train)}')\n",
    "print(f'RidgeCV Test Score: {ridge_cv.score(z_test,y_test)}')"
   ]
  },
  {
   "cell_type": "markdown",
   "metadata": {},
   "source": [
    "__Interpretation__ Looks like alpha10 score did the best."
   ]
  },
  {
   "cell_type": "markdown",
   "metadata": {},
   "source": [
    "### 2c. Reg by Lasso <a class=\"anchor\" id=\"section2c\"></a>"
   ]
  },
  {
   "cell_type": "code",
   "execution_count": 16,
   "metadata": {},
   "outputs": [],
   "source": [
    "#find lasso alphas to check\n",
    "#l_alphas = np.logspace(-3,0,100)\n",
    "l_alphas = np.linspace(670,800,num=100)"
   ]
  },
  {
   "cell_type": "code",
   "execution_count": 17,
   "metadata": {},
   "outputs": [],
   "source": [
    "lasso_cv=LassoCV(alphas=l_alphas,cv=5, max_iter=5000)"
   ]
  },
  {
   "cell_type": "code",
   "execution_count": 18,
   "metadata": {},
   "outputs": [
    {
     "data": {
      "text/plain": [
       "LassoCV(alphas=array([670.        , 671.31313131, 672.62626263, 673.93939394,\n",
       "       675.25252525, 676.56565657, 677.87878788, 679.19191919,\n",
       "       680.50505051, 681.81818182, 683.13131313, 684.44444444,\n",
       "       685.75757576, 687.07070707, 688.38383838, 689.6969697 ,\n",
       "       691.01010101, 692.32323232, 693.63636364, 694.94949495,\n",
       "       696.26262626, 697.57575758, 698.88888889, 700.2020202 ,\n",
       "       701.51515152, 702.82828283,...\n",
       "       764.54545455, 765.85858586, 767.17171717, 768.48484848,\n",
       "       769.7979798 , 771.11111111, 772.42424242, 773.73737374,\n",
       "       775.05050505, 776.36363636, 777.67676768, 778.98989899,\n",
       "       780.3030303 , 781.61616162, 782.92929293, 784.24242424,\n",
       "       785.55555556, 786.86868687, 788.18181818, 789.49494949,\n",
       "       790.80808081, 792.12121212, 793.43434343, 794.74747475,\n",
       "       796.06060606, 797.37373737, 798.68686869, 800.        ]),\n",
       "        cv=5, max_iter=5000)"
      ]
     },
     "execution_count": 18,
     "metadata": {},
     "output_type": "execute_result"
    }
   ],
   "source": [
    "lasso_cv.fit(z_train,y_train)"
   ]
  },
  {
   "cell_type": "code",
   "execution_count": 19,
   "metadata": {},
   "outputs": [
    {
     "name": "stdout",
     "output_type": "stream",
     "text": [
      "LassoCV Train Score: 0.8285070040889598\n",
      "LassoCV Test Score: 0.8727200493305982\n"
     ]
    }
   ],
   "source": [
    "print(f'LassoCV Train Score: {lasso_cv.score(z_train,y_train)}')\n",
    "print(f'LassoCV Test Score: {lasso_cv.score(z_test,y_test)}')"
   ]
  },
  {
   "cell_type": "code",
   "execution_count": 20,
   "metadata": {},
   "outputs": [
    {
     "data": {
      "text/plain": [
       "KNeighborsClassifier()"
      ]
     },
     "execution_count": 20,
     "metadata": {},
     "output_type": "execute_result"
    }
   ],
   "source": [
    "#Trying Nearest neighbor\n",
    "knn = KNeighborsClassifier()\n",
    "knn.fit(z_train,y_train)"
   ]
  },
  {
   "cell_type": "code",
   "execution_count": 21,
   "metadata": {},
   "outputs": [
    {
     "data": {
      "text/plain": [
       "0.19323357189329862"
      ]
     },
     "execution_count": 21,
     "metadata": {},
     "output_type": "execute_result"
    }
   ],
   "source": [
    "knn.score(z_train,y_train)"
   ]
  },
  {
   "cell_type": "code",
   "execution_count": 22,
   "metadata": {},
   "outputs": [
    {
     "data": {
      "text/plain": [
       "0.011695906432748537"
      ]
     },
     "execution_count": 22,
     "metadata": {},
     "output_type": "execute_result"
    }
   ],
   "source": [
    "knn.score(z_test,y_test)"
   ]
  },
  {
   "cell_type": "markdown",
   "metadata": {},
   "source": [
    "__Interpretation__ Nearest neighbor is a terrible model for this example."
   ]
  },
  {
   "cell_type": "markdown",
   "metadata": {},
   "source": [
    "### 2d. Reg by ElasticNet <a class=\"anchor\" id=\"section2d\"></a>"
   ]
  },
  {
   "cell_type": "code",
   "execution_count": 23,
   "metadata": {},
   "outputs": [
    {
     "name": "stdout",
     "output_type": "stream",
     "text": [
      "0.7992575510793746\n",
      "0.8575153943600169\n"
     ]
    }
   ],
   "source": [
    "#taken from Tim Book's lecture on regularizations.\n",
    "\n",
    "# Set up a list of alphas to check.\n",
    "enet_alphas = np.linspace(0.5, 1.0, 100)\n",
    "\n",
    "# Set up our l1 ratio. (What does this do?)\n",
    "enet_ratio = 0.5\n",
    "\n",
    "# Instantiate model.\n",
    "enet = ElasticNetCV(alphas=enet_alphas, l1_ratio=enet_ratio, cv=5)\n",
    "\n",
    "# Fit model using optimal alpha.\n",
    "enet = enet.fit(X_train, y_train)\n",
    "\n",
    "# Evaluate model.\n",
    "print(enet.score(X_train, y_train))\n",
    "print(enet.score(X_test, y_test))"
   ]
  },
  {
   "cell_type": "markdown",
   "metadata": {},
   "source": [
    "__Interpretation__ Our test score of 0.857515 is doing well, but ridge10 still does better."
   ]
  },
  {
   "cell_type": "markdown",
   "metadata": {},
   "source": [
    "## 03-Fine tune hyperparamaters. <a class=\"anchor\" id=\"section3\"></a>"
   ]
  },
  {
   "cell_type": "markdown",
   "metadata": {},
   "source": [
    "### 3a. Linear Regression Pipeline. <a class=\"anchor\" id=\"section3a\"></a>"
   ]
  },
  {
   "cell_type": "code",
   "execution_count": 24,
   "metadata": {},
   "outputs": [
    {
     "data": {
      "text/plain": [
       "Pipeline(steps=[('pf', PolynomialFeatures()), ('ss', StandardScaler()),\n",
       "                ('lcv', LinearRegression())])"
      ]
     },
     "execution_count": 24,
     "metadata": {},
     "output_type": "execute_result"
    }
   ],
   "source": [
    "pipe = Pipeline([\n",
    "    ('pf', PolynomialFeatures()),\n",
    "    ('ss', StandardScaler()),\n",
    "    ('lcv', LinearRegression())\n",
    "])\n",
    "pipe.fit(X_train,y_train)"
   ]
  },
  {
   "cell_type": "code",
   "execution_count": 25,
   "metadata": {},
   "outputs": [
    {
     "name": "stdout",
     "output_type": "stream",
     "text": [
      "Feamod Pipe Train Score: 0.9416884005154808\n",
      "Feamod Pipe Test Score: 0.8540816655882459\n"
     ]
    }
   ],
   "source": [
    "print(f'Feamod Pipe Train Score: {pipe.score(X_train,y_train)}')\n",
    "print(f'Feamod Pipe Test Score: {pipe.score(X_test,y_test)}')"
   ]
  },
  {
   "cell_type": "code",
   "execution_count": 26,
   "metadata": {},
   "outputs": [
    {
     "data": {
      "text/plain": [
       "Pipeline(steps=[('ss', StandardScaler()), ('lcv', LinearRegression())])"
      ]
     },
     "execution_count": 26,
     "metadata": {},
     "output_type": "execute_result"
    }
   ],
   "source": [
    "#Linear Regression without Polynomial Features\n",
    "pipe = Pipeline([\n",
    "    ('ss', StandardScaler()),\n",
    "    ('lcv', LinearRegression())\n",
    "])\n",
    "pipe.fit(X_train,y_train)"
   ]
  },
  {
   "cell_type": "code",
   "execution_count": 27,
   "metadata": {},
   "outputs": [
    {
     "name": "stdout",
     "output_type": "stream",
     "text": [
      "Feamod Pipe Train Score: 0.8341370595763211\n",
      "Feamod Pipe Test Score: 0.866161649901963\n"
     ]
    }
   ],
   "source": [
    "print(f'Feamod Pipe Train Score: {pipe.score(X_train,y_train)}')\n",
    "print(f'Feamod Pipe Test Score: {pipe.score(X_test,y_test)}')"
   ]
  },
  {
   "cell_type": "markdown",
   "metadata": {},
   "source": [
    "__Interpretation:__ Adding polnomial features created extreme overfitting.  After removing the polynomial features, I received the same score as before because this is just an easier way to do what I did in Step 2a."
   ]
  },
  {
   "cell_type": "markdown",
   "metadata": {},
   "source": [
    "### 3b. RidgeCV Pipeline. <a class=\"anchor\" id=\"section3b\"></a>"
   ]
  },
  {
   "cell_type": "code",
   "execution_count": 94,
   "metadata": {},
   "outputs": [
    {
     "data": {
      "text/plain": [
       "Pipeline(steps=[('pf', PolynomialFeatures()), ('ss', StandardScaler()),\n",
       "                ('rdg', RidgeCV(alphas=array([ 0.1,  1. , 10. ])))])"
      ]
     },
     "execution_count": 94,
     "metadata": {},
     "output_type": "execute_result"
    }
   ],
   "source": [
    "ridge_pipe = Pipeline([\n",
    "    ('pf', PolynomialFeatures()),\n",
    "    ('ss', StandardScaler()),\n",
    "    ('rdg', RidgeCV())\n",
    "])\n",
    "ridge_pipe.fit(X_train,y_train)"
   ]
  },
  {
   "cell_type": "code",
   "execution_count": 95,
   "metadata": {},
   "outputs": [
    {
     "name": "stdout",
     "output_type": "stream",
     "text": [
      "Ridge Pipe Train Score: 0.9323958046469537\n",
      "Ridge Pipe Test Score: 0.9018315228738385\n"
     ]
    }
   ],
   "source": [
    "print(f'Ridge Pipe Train Score: {ridge_pipe.score(X_train,y_train)}')\n",
    "print(f'Ridge Pipe Test Score: {ridge_pipe.score(X_test,y_test)}')"
   ]
  },
  {
   "cell_type": "code",
   "execution_count": 96,
   "metadata": {},
   "outputs": [
    {
     "data": {
      "text/plain": [
       "Pipeline(steps=[('ss', StandardScaler()), ('rdg', Ridge())])"
      ]
     },
     "execution_count": 96,
     "metadata": {},
     "output_type": "execute_result"
    }
   ],
   "source": [
    "#Ridge Regularization with no polynomial\n",
    "pipe_b2 = Pipeline([\n",
    "    ('ss', StandardScaler()),\n",
    "    ('rdg', Ridge())\n",
    "])\n",
    "pipe_b2.fit(X_train,y_train)"
   ]
  },
  {
   "cell_type": "code",
   "execution_count": 31,
   "metadata": {},
   "outputs": [
    {
     "name": "stdout",
     "output_type": "stream",
     "text": [
      "Ridge Pipe Train Score: 0.8341259629781239\n",
      "Ridge Pipe Test Score: 0.8666460646835892\n"
     ]
    }
   ],
   "source": [
    "print(f'Ridge Pipe Train Score: {pipe_b2.score(X_train,y_train)}')\n",
    "print(f'Ridge Pipe Test Score: {pipe_b2.score(X_test,y_test)}')"
   ]
  },
  {
   "cell_type": "code",
   "execution_count": 32,
   "metadata": {},
   "outputs": [
    {
     "data": {
      "text/plain": [
       "{'memory': None,\n",
       " 'steps': [('ss', StandardScaler()), ('rdg', Ridge())],\n",
       " 'verbose': False,\n",
       " 'ss': StandardScaler(),\n",
       " 'rdg': Ridge(),\n",
       " 'ss__copy': True,\n",
       " 'ss__with_mean': True,\n",
       " 'ss__with_std': True,\n",
       " 'rdg__alpha': 1.0,\n",
       " 'rdg__copy_X': True,\n",
       " 'rdg__fit_intercept': True,\n",
       " 'rdg__max_iter': None,\n",
       " 'rdg__normalize': False,\n",
       " 'rdg__random_state': None,\n",
       " 'rdg__solver': 'auto',\n",
       " 'rdg__tol': 0.001}"
      ]
     },
     "execution_count": 32,
     "metadata": {},
     "output_type": "execute_result"
    }
   ],
   "source": [
    "pipe_b2.get_params()"
   ]
  },
  {
   "cell_type": "code",
   "execution_count": 33,
   "metadata": {},
   "outputs": [],
   "source": [
    "pipe_b2_params = {'rdg__alpha':[0,5,100]}"
   ]
  },
  {
   "cell_type": "code",
   "execution_count": 34,
   "metadata": {},
   "outputs": [
    {
     "name": "stdout",
     "output_type": "stream",
     "text": [
      "Fitting 5 folds for each of 3 candidates, totalling 15 fits\n"
     ]
    },
    {
     "name": "stderr",
     "output_type": "stream",
     "text": [
      "[Parallel(n_jobs=1)]: Using backend SequentialBackend with 1 concurrent workers.\n",
      "[Parallel(n_jobs=1)]: Done  15 out of  15 | elapsed:    0.2s finished\n"
     ]
    }
   ],
   "source": [
    "#GridSearchCV\n",
    "pipe_b2_gridsearch=GridSearchCV(pipe_b2,pipe_b2_params,cv=5,verbose=1)\n",
    "pipe_b2_gridsearch.fit(X_train, y_train);"
   ]
  },
  {
   "cell_type": "code",
   "execution_count": 35,
   "metadata": {},
   "outputs": [
    {
     "data": {
      "text/plain": [
       "0.8681662299514729"
      ]
     },
     "execution_count": 35,
     "metadata": {},
     "output_type": "execute_result"
    }
   ],
   "source": [
    "pipe_b2_gridsearch.score(X_test,y_test)"
   ]
  },
  {
   "cell_type": "markdown",
   "metadata": {},
   "source": [
    "__Interpretation:__ This model has a lower performance than the ridge10 model.  The train and test scores varied alot when the PolynomialFeatures were inputted, meaning overfit.  But, when I removed the PolynomialFeatures, the score was worse than the ridge10 model = 0.86651.  The GridSearchCV score was the very close to the ridge10, but ridge10 was still higher."
   ]
  },
  {
   "cell_type": "markdown",
   "metadata": {},
   "source": [
    "### 3c. LassoCV Pipeline. <a class=\"anchor\" id=\"section3c\"></a>"
   ]
  },
  {
   "cell_type": "code",
   "execution_count": 97,
   "metadata": {},
   "outputs": [
    {
     "data": {
      "text/plain": [
       "Pipeline(steps=[('ss', StandardScaler()), ('lcv', LassoCV())])"
      ]
     },
     "execution_count": 97,
     "metadata": {},
     "output_type": "execute_result"
    }
   ],
   "source": [
    "#Lasso with no PolynomialFeatures\n",
    "lasso_np_pipe = Pipeline([\n",
    "    ('ss', StandardScaler()),\n",
    "    ('lcv', LassoCV())\n",
    "])\n",
    "lasso_np_pipe.fit(X_train,y_train)"
   ]
  },
  {
   "cell_type": "code",
   "execution_count": 98,
   "metadata": {},
   "outputs": [
    {
     "name": "stdout",
     "output_type": "stream",
     "text": [
      "Lasso Pipe Train Score: 0.8339720209242557\n",
      "Lasso Pipe Test Score: 0.8681853687117935\n"
     ]
    }
   ],
   "source": [
    "print(f'Lasso Pipe Train Score: {lasso_np_pipe.score(X_train,y_train)}')\n",
    "print(f'Lasso Pipe Test Score: {lasso_np_pipe.score(X_test,y_test)}')"
   ]
  },
  {
   "cell_type": "code",
   "execution_count": 67,
   "metadata": {},
   "outputs": [
    {
     "name": "stderr",
     "output_type": "stream",
     "text": [
      "/Users/decca/opt/anaconda3/lib/python3.7/site-packages/sklearn/linear_model/_coordinate_descent.py:527: ConvergenceWarning: Objective did not converge. You might want to increase the number of iterations. Duality gap: 860793465.0291748, tolerance: 750760399.1889355\n",
      "  tol, rng, random, positive)\n",
      "/Users/decca/opt/anaconda3/lib/python3.7/site-packages/sklearn/linear_model/_coordinate_descent.py:527: ConvergenceWarning: Objective did not converge. You might want to increase the number of iterations. Duality gap: 864211449.0895996, tolerance: 750760399.1889355\n",
      "  tol, rng, random, positive)\n",
      "/Users/decca/opt/anaconda3/lib/python3.7/site-packages/sklearn/linear_model/_coordinate_descent.py:527: ConvergenceWarning: Objective did not converge. You might want to increase the number of iterations. Duality gap: 942999065.3722534, tolerance: 750760399.1889355\n",
      "  tol, rng, random, positive)\n",
      "/Users/decca/opt/anaconda3/lib/python3.7/site-packages/sklearn/linear_model/_coordinate_descent.py:527: ConvergenceWarning: Objective did not converge. You might want to increase the number of iterations. Duality gap: 751795380.3190308, tolerance: 750760399.1889355\n",
      "  tol, rng, random, positive)\n",
      "/Users/decca/opt/anaconda3/lib/python3.7/site-packages/sklearn/linear_model/_coordinate_descent.py:527: ConvergenceWarning: Objective did not converge. You might want to increase the number of iterations. Duality gap: 883610088.0792236, tolerance: 750760399.1889355\n",
      "  tol, rng, random, positive)\n",
      "/Users/decca/opt/anaconda3/lib/python3.7/site-packages/sklearn/linear_model/_coordinate_descent.py:527: ConvergenceWarning: Objective did not converge. You might want to increase the number of iterations. Duality gap: 1003828465.1639404, tolerance: 750760399.1889355\n",
      "  tol, rng, random, positive)\n",
      "/Users/decca/opt/anaconda3/lib/python3.7/site-packages/sklearn/linear_model/_coordinate_descent.py:527: ConvergenceWarning: Objective did not converge. You might want to increase the number of iterations. Duality gap: 992130329.4424438, tolerance: 750760399.1889355\n",
      "  tol, rng, random, positive)\n",
      "/Users/decca/opt/anaconda3/lib/python3.7/site-packages/sklearn/linear_model/_coordinate_descent.py:527: ConvergenceWarning: Objective did not converge. You might want to increase the number of iterations. Duality gap: 784206971.0599365, tolerance: 750760399.1889355\n",
      "  tol, rng, random, positive)\n",
      "/Users/decca/opt/anaconda3/lib/python3.7/site-packages/sklearn/linear_model/_coordinate_descent.py:527: ConvergenceWarning: Objective did not converge. You might want to increase the number of iterations. Duality gap: 1139494212.6622925, tolerance: 750760399.1889355\n",
      "  tol, rng, random, positive)\n",
      "/Users/decca/opt/anaconda3/lib/python3.7/site-packages/sklearn/linear_model/_coordinate_descent.py:527: ConvergenceWarning: Objective did not converge. You might want to increase the number of iterations. Duality gap: 1467537367.5853271, tolerance: 798214999.5121915\n",
      "  tol, rng, random, positive)\n",
      "/Users/decca/opt/anaconda3/lib/python3.7/site-packages/sklearn/linear_model/_coordinate_descent.py:527: ConvergenceWarning: Objective did not converge. You might want to increase the number of iterations. Duality gap: 1266312804.7960205, tolerance: 798214999.5121915\n",
      "  tol, rng, random, positive)\n",
      "/Users/decca/opt/anaconda3/lib/python3.7/site-packages/sklearn/linear_model/_coordinate_descent.py:527: ConvergenceWarning: Objective did not converge. You might want to increase the number of iterations. Duality gap: 919089931.7854004, tolerance: 798214999.5121915\n",
      "  tol, rng, random, positive)\n",
      "/Users/decca/opt/anaconda3/lib/python3.7/site-packages/sklearn/linear_model/_coordinate_descent.py:527: ConvergenceWarning: Objective did not converge. You might want to increase the number of iterations. Duality gap: 831012386.3679199, tolerance: 798214999.5121915\n",
      "  tol, rng, random, positive)\n",
      "/Users/decca/opt/anaconda3/lib/python3.7/site-packages/sklearn/linear_model/_coordinate_descent.py:527: ConvergenceWarning: Objective did not converge. You might want to increase the number of iterations. Duality gap: 978654039.7064819, tolerance: 798214999.5121915\n",
      "  tol, rng, random, positive)\n",
      "/Users/decca/opt/anaconda3/lib/python3.7/site-packages/sklearn/linear_model/_coordinate_descent.py:527: ConvergenceWarning: Objective did not converge. You might want to increase the number of iterations. Duality gap: 1057307604.722168, tolerance: 798214999.5121915\n",
      "  tol, rng, random, positive)\n",
      "/Users/decca/opt/anaconda3/lib/python3.7/site-packages/sklearn/linear_model/_coordinate_descent.py:527: ConvergenceWarning: Objective did not converge. You might want to increase the number of iterations. Duality gap: 1248118899.1412354, tolerance: 798214999.5121915\n",
      "  tol, rng, random, positive)\n",
      "/Users/decca/opt/anaconda3/lib/python3.7/site-packages/sklearn/linear_model/_coordinate_descent.py:527: ConvergenceWarning: Objective did not converge. You might want to increase the number of iterations. Duality gap: 1344132599.609192, tolerance: 798214999.5121915\n",
      "  tol, rng, random, positive)\n",
      "/Users/decca/opt/anaconda3/lib/python3.7/site-packages/sklearn/linear_model/_coordinate_descent.py:527: ConvergenceWarning: Objective did not converge. You might want to increase the number of iterations. Duality gap: 1596613633.453247, tolerance: 798214999.5121915\n",
      "  tol, rng, random, positive)\n",
      "/Users/decca/opt/anaconda3/lib/python3.7/site-packages/sklearn/linear_model/_coordinate_descent.py:527: ConvergenceWarning: Objective did not converge. You might want to increase the number of iterations. Duality gap: 1604016588.9199219, tolerance: 789211141.1220708\n",
      "  tol, rng, random, positive)\n",
      "/Users/decca/opt/anaconda3/lib/python3.7/site-packages/sklearn/linear_model/_coordinate_descent.py:527: ConvergenceWarning: Objective did not converge. You might want to increase the number of iterations. Duality gap: 1969987928.5318604, tolerance: 789211141.1220708\n",
      "  tol, rng, random, positive)\n",
      "/Users/decca/opt/anaconda3/lib/python3.7/site-packages/sklearn/linear_model/_coordinate_descent.py:527: ConvergenceWarning: Objective did not converge. You might want to increase the number of iterations. Duality gap: 1682232492.2819824, tolerance: 789211141.1220708\n",
      "  tol, rng, random, positive)\n",
      "/Users/decca/opt/anaconda3/lib/python3.7/site-packages/sklearn/linear_model/_coordinate_descent.py:527: ConvergenceWarning: Objective did not converge. You might want to increase the number of iterations. Duality gap: 1617907064.4047852, tolerance: 789211141.1220708\n",
      "  tol, rng, random, positive)\n",
      "/Users/decca/opt/anaconda3/lib/python3.7/site-packages/sklearn/linear_model/_coordinate_descent.py:527: ConvergenceWarning: Objective did not converge. You might want to increase the number of iterations. Duality gap: 1448417648.5442505, tolerance: 789211141.1220708\n",
      "  tol, rng, random, positive)\n",
      "/Users/decca/opt/anaconda3/lib/python3.7/site-packages/sklearn/linear_model/_coordinate_descent.py:527: ConvergenceWarning: Objective did not converge. You might want to increase the number of iterations. Duality gap: 1512714709.1104126, tolerance: 789211141.1220708\n",
      "  tol, rng, random, positive)\n",
      "/Users/decca/opt/anaconda3/lib/python3.7/site-packages/sklearn/linear_model/_coordinate_descent.py:527: ConvergenceWarning: Objective did not converge. You might want to increase the number of iterations. Duality gap: 1524220289.7902832, tolerance: 789211141.1220708\n",
      "  tol, rng, random, positive)\n",
      "/Users/decca/opt/anaconda3/lib/python3.7/site-packages/sklearn/linear_model/_coordinate_descent.py:527: ConvergenceWarning: Objective did not converge. You might want to increase the number of iterations. Duality gap: 1564465182.8027344, tolerance: 789211141.1220708\n",
      "  tol, rng, random, positive)\n",
      "/Users/decca/opt/anaconda3/lib/python3.7/site-packages/sklearn/linear_model/_coordinate_descent.py:527: ConvergenceWarning: Objective did not converge. You might want to increase the number of iterations. Duality gap: 1306430504.86792, tolerance: 789211141.1220708\n",
      "  tol, rng, random, positive)\n",
      "/Users/decca/opt/anaconda3/lib/python3.7/site-packages/sklearn/linear_model/_coordinate_descent.py:527: ConvergenceWarning: Objective did not converge. You might want to increase the number of iterations. Duality gap: 1149771906.0187988, tolerance: 789211141.1220708\n",
      "  tol, rng, random, positive)\n",
      "/Users/decca/opt/anaconda3/lib/python3.7/site-packages/sklearn/linear_model/_coordinate_descent.py:527: ConvergenceWarning: Objective did not converge. You might want to increase the number of iterations. Duality gap: 1293363799.3534546, tolerance: 789211141.1220708\n",
      "  tol, rng, random, positive)\n",
      "/Users/decca/opt/anaconda3/lib/python3.7/site-packages/sklearn/linear_model/_coordinate_descent.py:527: ConvergenceWarning: Objective did not converge. You might want to increase the number of iterations. Duality gap: 1276774283.7208252, tolerance: 789211141.1220708\n",
      "  tol, rng, random, positive)\n",
      "/Users/decca/opt/anaconda3/lib/python3.7/site-packages/sklearn/linear_model/_coordinate_descent.py:527: ConvergenceWarning: Objective did not converge. You might want to increase the number of iterations. Duality gap: 967980999.3119507, tolerance: 789211141.1220708\n",
      "  tol, rng, random, positive)\n",
      "/Users/decca/opt/anaconda3/lib/python3.7/site-packages/sklearn/linear_model/_coordinate_descent.py:527: ConvergenceWarning: Objective did not converge. You might want to increase the number of iterations. Duality gap: 839206443.7995605, tolerance: 810396559.0772375\n",
      "  tol, rng, random, positive)\n",
      "/Users/decca/opt/anaconda3/lib/python3.7/site-packages/sklearn/linear_model/_coordinate_descent.py:527: ConvergenceWarning: Objective did not converge. You might want to increase the number of iterations. Duality gap: 955370901.1135254, tolerance: 810396559.0772375\n",
      "  tol, rng, random, positive)\n",
      "/Users/decca/opt/anaconda3/lib/python3.7/site-packages/sklearn/linear_model/_coordinate_descent.py:527: ConvergenceWarning: Objective did not converge. You might want to increase the number of iterations. Duality gap: 846117534.911377, tolerance: 810396559.0772375\n",
      "  tol, rng, random, positive)\n",
      "/Users/decca/opt/anaconda3/lib/python3.7/site-packages/sklearn/linear_model/_coordinate_descent.py:527: ConvergenceWarning: Objective did not converge. You might want to increase the number of iterations. Duality gap: 937734751.4450684, tolerance: 810396559.0772375\n",
      "  tol, rng, random, positive)\n",
      "/Users/decca/opt/anaconda3/lib/python3.7/site-packages/sklearn/linear_model/_coordinate_descent.py:527: ConvergenceWarning: Objective did not converge. You might want to increase the number of iterations. Duality gap: 1072244511.7906494, tolerance: 810396559.0772375\n",
      "  tol, rng, random, positive)\n",
      "/Users/decca/opt/anaconda3/lib/python3.7/site-packages/sklearn/linear_model/_coordinate_descent.py:527: ConvergenceWarning: Objective did not converge. You might want to increase the number of iterations. Duality gap: 1028951993.984375, tolerance: 810396559.0772375\n",
      "  tol, rng, random, positive)\n",
      "/Users/decca/opt/anaconda3/lib/python3.7/site-packages/sklearn/linear_model/_coordinate_descent.py:527: ConvergenceWarning: Objective did not converge. You might want to increase the number of iterations. Duality gap: 1066386128.479248, tolerance: 810396559.0772375\n",
      "  tol, rng, random, positive)\n",
      "/Users/decca/opt/anaconda3/lib/python3.7/site-packages/sklearn/linear_model/_coordinate_descent.py:527: ConvergenceWarning: Objective did not converge. You might want to increase the number of iterations. Duality gap: 925302885.9412842, tolerance: 810396559.0772375\n",
      "  tol, rng, random, positive)\n",
      "/Users/decca/opt/anaconda3/lib/python3.7/site-packages/sklearn/linear_model/_coordinate_descent.py:527: ConvergenceWarning: Objective did not converge. You might want to increase the number of iterations. Duality gap: 839784386.861206, tolerance: 810396559.0772375\n",
      "  tol, rng, random, positive)\n",
      "/Users/decca/opt/anaconda3/lib/python3.7/site-packages/sklearn/linear_model/_coordinate_descent.py:531: ConvergenceWarning: Objective did not converge. You might want to increase the number of iterations. Duality gap: 24383411251.404053, tolerance: 967057801.5200375\n",
      "  positive)\n"
     ]
    },
    {
     "data": {
      "text/plain": [
       "Pipeline(steps=[('pf', PolynomialFeatures()), ('ss', StandardScaler()),\n",
       "                ('lcv', LassoCV())])"
      ]
     },
     "execution_count": 67,
     "metadata": {},
     "output_type": "execute_result"
    }
   ],
   "source": [
    "#Lasso with Polynomial\n",
    "lasso_pipe = Pipeline([\n",
    "    ('pf', PolynomialFeatures()),\n",
    "    ('ss', StandardScaler()),\n",
    "    ('lcv', LassoCV())\n",
    "])\n",
    "lasso_pipe.fit(X_train,y_train)"
   ]
  },
  {
   "cell_type": "code",
   "execution_count": 69,
   "metadata": {},
   "outputs": [
    {
     "name": "stdout",
     "output_type": "stream",
     "text": [
      "Lasso Pipe Train Score: 0.9208623540861671\n",
      "Lasso Pipe Test Score: 0.9123018055793188\n"
     ]
    }
   ],
   "source": [
    "print(f'Lasso Pipe Train Score: {lasso_pipe.score(X_train,y_train)}')\n",
    "print(f'Lasso Pipe Test Score: {lasso_pipe.score(X_test,y_test)}')"
   ]
  },
  {
   "cell_type": "code",
   "execution_count": 99,
   "metadata": {},
   "outputs": [
    {
     "data": {
      "text/plain": [
       "{'memory': None,\n",
       " 'steps': [('ss', StandardScaler()), ('lcv', LassoCV())],\n",
       " 'verbose': False,\n",
       " 'ss': StandardScaler(),\n",
       " 'lcv': LassoCV(),\n",
       " 'ss__copy': True,\n",
       " 'ss__with_mean': True,\n",
       " 'ss__with_std': True,\n",
       " 'lcv__alphas': None,\n",
       " 'lcv__copy_X': True,\n",
       " 'lcv__cv': None,\n",
       " 'lcv__eps': 0.001,\n",
       " 'lcv__fit_intercept': True,\n",
       " 'lcv__max_iter': 1000,\n",
       " 'lcv__n_alphas': 100,\n",
       " 'lcv__n_jobs': None,\n",
       " 'lcv__normalize': False,\n",
       " 'lcv__positive': False,\n",
       " 'lcv__precompute': 'auto',\n",
       " 'lcv__random_state': None,\n",
       " 'lcv__selection': 'cyclic',\n",
       " 'lcv__tol': 0.0001,\n",
       " 'lcv__verbose': False}"
      ]
     },
     "execution_count": 99,
     "metadata": {},
     "output_type": "execute_result"
    }
   ],
   "source": [
    "lasso_np_pipe.get_params()"
   ]
  },
  {
   "cell_type": "code",
   "execution_count": 100,
   "metadata": {},
   "outputs": [],
   "source": [
    "lasso_np_pipe_params = {'ss__with_mean':[True,False],\n",
    "              'lcv__normalize':[True,False]}"
   ]
  },
  {
   "cell_type": "code",
   "execution_count": 101,
   "metadata": {},
   "outputs": [
    {
     "name": "stdout",
     "output_type": "stream",
     "text": [
      "Fitting 5 folds for each of 4 candidates, totalling 20 fits\n"
     ]
    },
    {
     "name": "stderr",
     "output_type": "stream",
     "text": [
      "[Parallel(n_jobs=1)]: Using backend SequentialBackend with 1 concurrent workers.\n",
      "[Parallel(n_jobs=1)]: Done  20 out of  20 | elapsed:    2.1s finished\n"
     ]
    }
   ],
   "source": [
    "#GridsearchCV - did not run because although I did not get errors when I first ran pipe with polynomials, \n",
    "#I am getting convergence errors now. And this results in a massive error log\n",
    "lasso_pipe_gridsearch=GridSearchCV(lasso_np_pipe,lasso_np_pipe_params,cv=5,verbose=1)\n",
    "lasso_pipe_gridsearch.fit(X_train, y_train);"
   ]
  },
  {
   "cell_type": "code",
   "execution_count": 102,
   "metadata": {},
   "outputs": [
    {
     "data": {
      "text/plain": [
       "0.8681853687117935"
      ]
     },
     "execution_count": 102,
     "metadata": {},
     "output_type": "execute_result"
    }
   ],
   "source": [
    "lasso_pipe_gridsearch.score(X_test,y_test)"
   ]
  },
  {
   "cell_type": "markdown",
   "metadata": {},
   "source": [
    "__Interpretation:__  The model performed better with a polynomial scaler, but not with a GridSearch (0.8638). So the alphas I used on the first iteration worked better. Something to note is that when I first ran this model, I didn't have errors.  But the second time and thereafter I recived alot of convergience errors.  According to Tim Book's lecture, it doesn't mean you have a bad model.  But the more I googled it the more I realized it could be a bad model because it may be too high variance.  So I will include it in my predictions and see how it performs. "
   ]
  },
  {
   "cell_type": "markdown",
   "metadata": {},
   "source": [
    "### 3d. ElasticNetCV Pipeline. <a class=\"anchor\" id=\"section3d\"></a>"
   ]
  },
  {
   "cell_type": "code",
   "execution_count": 72,
   "metadata": {},
   "outputs": [
    {
     "name": "stderr",
     "output_type": "stream",
     "text": [
      "/Users/decca/opt/anaconda3/lib/python3.7/site-packages/sklearn/linear_model/_coordinate_descent.py:531: ConvergenceWarning: Objective did not converge. You might want to increase the number of iterations. Duality gap: 678190989051.0446, tolerance: 967057801.5200375\n",
      "  positive)\n"
     ]
    },
    {
     "data": {
      "text/plain": [
       "Pipeline(steps=[('pf', PolynomialFeatures()), ('ss', StandardScaler()),\n",
       "                ('ent', ElasticNet())])"
      ]
     },
     "execution_count": 72,
     "metadata": {},
     "output_type": "execute_result"
    }
   ],
   "source": [
    "#ElasticNet with Polynomial\n",
    "enet_pipe = Pipeline([\n",
    "    ('pf', PolynomialFeatures()),\n",
    "    ('ss', StandardScaler()),\n",
    "    ('ent', ElasticNet())\n",
    "])\n",
    "enet_pipe.fit(X_train,y_train)"
   ]
  },
  {
   "cell_type": "code",
   "execution_count": 73,
   "metadata": {},
   "outputs": [
    {
     "name": "stdout",
     "output_type": "stream",
     "text": [
      "ElasticNet Pipe Train Score: 0.8896730796929836\n",
      "ElasticNet Pipe Test Score: 0.8867255699555154\n"
     ]
    }
   ],
   "source": [
    "print(f'ElasticNet Pipe Train Score: {enet_pipe.score(X_train,y_train)}')\n",
    "print(f'ElasticNet Pipe Test Score: {enet_pipe.score(X_test,y_test)}')"
   ]
  },
  {
   "cell_type": "code",
   "execution_count": 46,
   "metadata": {},
   "outputs": [
    {
     "data": {
      "text/plain": [
       "Pipeline(steps=[('pf', PolynomialFeatures()), ('ss', StandardScaler()),\n",
       "                ('ent', ElasticNetCV())])"
      ]
     },
     "execution_count": 46,
     "metadata": {},
     "output_type": "execute_result"
    }
   ],
   "source": [
    "#ElasticNet with Polynomial\n",
    "pipe_d2 = Pipeline([\n",
    "    ('pf', PolynomialFeatures()),\n",
    "    ('ss', StandardScaler()),\n",
    "    ('ent', ElasticNetCV())\n",
    "])\n",
    "pipe_d2.fit(X_train,y_train)"
   ]
  },
  {
   "cell_type": "code",
   "execution_count": 47,
   "metadata": {},
   "outputs": [
    {
     "name": "stdout",
     "output_type": "stream",
     "text": [
      "ElasticNetCV Pipe Train Score: 0.668978302749958\n",
      "ElasticNetCV Pipe Test Score: 0.6910830366878219\n"
     ]
    }
   ],
   "source": [
    "print(f'ElasticNetCV Pipe Train Score: {pipe_d2.score(X_train,y_train)}')\n",
    "print(f'ElasticNetCV Pipe Test Score: {pipe_d2.score(X_test,y_test)}')"
   ]
  },
  {
   "cell_type": "markdown",
   "metadata": {},
   "source": [
    "__Interpretation__ Elastic Net CV did a terrible job.  While the Elastic Net did much better than the original Elastic Net.  So I will include ElasticNet pipe into my summary and predictions below for futher testing and comparison."
   ]
  },
  {
   "cell_type": "markdown",
   "metadata": {},
   "source": [
    "### 3e. Nearest Neighbor Pipeline. <a class=\"anchor\" id=\"section3e\"></a>"
   ]
  },
  {
   "cell_type": "code",
   "execution_count": 48,
   "metadata": {},
   "outputs": [],
   "source": [
    "pipe_e = Pipeline([\n",
    "    ('ss', StandardScaler()),\n",
    "    ('knn', KNeighborsClassifier(n_neighbors=5))\n",
    "])\n",
    "pipe_e.fit(X_train,y_train);"
   ]
  },
  {
   "cell_type": "code",
   "execution_count": 49,
   "metadata": {},
   "outputs": [
    {
     "data": {
      "text/plain": [
       "0.011695906432748537"
      ]
     },
     "execution_count": 49,
     "metadata": {},
     "output_type": "execute_result"
    }
   ],
   "source": [
    "pipe_e.score(X_test,y_test)"
   ]
  },
  {
   "cell_type": "code",
   "execution_count": 50,
   "metadata": {},
   "outputs": [
    {
     "data": {
      "text/plain": [
       "{'memory': None,\n",
       " 'steps': [('ss', StandardScaler()), ('knn', KNeighborsClassifier())],\n",
       " 'verbose': False,\n",
       " 'ss': StandardScaler(),\n",
       " 'knn': KNeighborsClassifier(),\n",
       " 'ss__copy': True,\n",
       " 'ss__with_mean': True,\n",
       " 'ss__with_std': True,\n",
       " 'knn__algorithm': 'auto',\n",
       " 'knn__leaf_size': 30,\n",
       " 'knn__metric': 'minkowski',\n",
       " 'knn__metric_params': None,\n",
       " 'knn__n_jobs': None,\n",
       " 'knn__n_neighbors': 5,\n",
       " 'knn__p': 2,\n",
       " 'knn__weights': 'uniform'}"
      ]
     },
     "execution_count": 50,
     "metadata": {},
     "output_type": "execute_result"
    }
   ],
   "source": [
    "pipe_e.get_params()"
   ]
  },
  {
   "cell_type": "code",
   "execution_count": 51,
   "metadata": {},
   "outputs": [],
   "source": [
    "pipe_e_params = {'ss__with_mean':[True,False],\n",
    "                 'knn__n_neighbors':[3,5,7,11],\n",
    "                 'knn__weights':['uniform','distance']}"
   ]
  },
  {
   "cell_type": "code",
   "execution_count": 52,
   "metadata": {},
   "outputs": [
    {
     "name": "stdout",
     "output_type": "stream",
     "text": [
      "Fitting 5 folds for each of 16 candidates, totalling 80 fits\n"
     ]
    },
    {
     "name": "stderr",
     "output_type": "stream",
     "text": [
      "/Users/decca/opt/anaconda3/lib/python3.7/site-packages/sklearn/model_selection/_split.py:672: UserWarning: The least populated class in y has only 1 members, which is less than n_splits=5.\n",
      "  % (min_groups, self.n_splits)), UserWarning)\n",
      "[Parallel(n_jobs=1)]: Using backend SequentialBackend with 1 concurrent workers.\n",
      "[Parallel(n_jobs=1)]: Done  80 out of  80 | elapsed:    3.1s finished\n"
     ]
    }
   ],
   "source": [
    "pipe_e_gridsearch = GridSearchCV(pipe_e, pipe_e_params, cv=5, verbose=1)\n",
    "pipe_e_gridsearch.fit(X_train, y_train);"
   ]
  },
  {
   "cell_type": "code",
   "execution_count": 53,
   "metadata": {},
   "outputs": [
    {
     "data": {
      "text/plain": [
       "0.021442495126705652"
      ]
     },
     "execution_count": 53,
     "metadata": {},
     "output_type": "execute_result"
    }
   ],
   "source": [
    "pipe_e_gridsearch.score(X_test,y_test)"
   ]
  },
  {
   "cell_type": "markdown",
   "metadata": {},
   "source": [
    "__Interpretation:__ The model did better with a GridSearchCV, but overall it is still terrible compared with other models for this dataset."
   ]
  },
  {
   "cell_type": "markdown",
   "metadata": {},
   "source": [
    "## 04-Identify a production model. <a class=\"anchor\" id=\"section4\"></a>"
   ]
  },
  {
   "cell_type": "markdown",
   "metadata": {},
   "source": [
    "__Notes__    \n",
    "Identify a production model. (This does not have to be your best performing Kaggle model, but rather the model that best answers your problem statement.)   \n",
    "Refine and interpret your production model."
   ]
  },
  {
   "cell_type": "code",
   "execution_count": 54,
   "metadata": {},
   "outputs": [
    {
     "data": {
      "text/plain": [
       "28920.470466690054"
      ]
     },
     "execution_count": 54,
     "metadata": {},
     "output_type": "execute_result"
    }
   ],
   "source": [
    "#predict for feamod\n",
    "y_preds=feamod.predict(X_test)\n",
    "feamod_mse= metrics.mean_squared_error(y_test,y_preds)**0.5\n",
    "feamod_mse"
   ]
  },
  {
   "cell_type": "code",
   "execution_count": 55,
   "metadata": {},
   "outputs": [
    {
     "data": {
      "text/plain": [
       "(12789, 555000)"
      ]
     },
     "execution_count": 55,
     "metadata": {},
     "output_type": "execute_result"
    }
   ],
   "source": [
    "#on testing, my predictions are wrong by 28,914 between:\n",
    "min(y_test),max(y_test)"
   ]
  },
  {
   "cell_type": "code",
   "execution_count": 56,
   "metadata": {},
   "outputs": [
    {
     "data": {
      "text/plain": [
       "29406.739339592994"
      ]
     },
     "execution_count": 56,
     "metadata": {},
     "output_type": "execute_result"
    }
   ],
   "source": [
    "#predict for ridge1\n",
    "y_preds=ridge1.predict(z_test)\n",
    "ridge1_mse=metrics.mean_squared_error(y_test,y_preds)**0.5\n",
    "ridge1_mse"
   ]
  },
  {
   "cell_type": "code",
   "execution_count": 57,
   "metadata": {},
   "outputs": [
    {
     "data": {
      "text/plain": [
       "28882.443402557812"
      ]
     },
     "execution_count": 57,
     "metadata": {},
     "output_type": "execute_result"
    }
   ],
   "source": [
    "#predict for ridge10\n",
    "y_preds=ridge10.predict(z_test)\n",
    "ridge10_mse=metrics.mean_squared_error(y_test,y_preds)**0.5\n",
    "ridge10_mse"
   ]
  },
  {
   "cell_type": "code",
   "execution_count": 58,
   "metadata": {},
   "outputs": [
    {
     "data": {
      "text/plain": [
       "29049.598370276482"
      ]
     },
     "execution_count": 58,
     "metadata": {},
     "output_type": "execute_result"
    }
   ],
   "source": [
    "#predict for ridge_cv\n",
    "y_preds=ridge_cv.predict(z_test)\n",
    "ridge_cv_mse=metrics.mean_squared_error(y_test,y_preds)**0.5\n",
    "ridge_cv_mse"
   ]
  },
  {
   "cell_type": "code",
   "execution_count": 75,
   "metadata": {},
   "outputs": [
    {
     "data": {
      "text/plain": [
       "28202.984302098695"
      ]
     },
     "execution_count": 75,
     "metadata": {},
     "output_type": "execute_result"
    }
   ],
   "source": [
    "#predict for lasso CV\n",
    "y_preds=lasso_cv.predict(z_test)\n",
    "lasso_cv_mse=metrics.mean_squared_error(y_test,y_preds)**0.5\n",
    "lasso_cv_mse"
   ]
  },
  {
   "cell_type": "code",
   "execution_count": 76,
   "metadata": {},
   "outputs": [
    {
     "data": {
      "text/plain": [
       "23410.483993804133"
      ]
     },
     "execution_count": 76,
     "metadata": {},
     "output_type": "execute_result"
    }
   ],
   "source": [
    "#predict for Lasso CV pipe with Polynomial Features\n",
    "y_preds=lasso_pipe.predict(X_test)\n",
    "lasso_pipe_mse=metrics.mean_squared_error(y_test,y_preds)**0.5\n",
    "lasso_pipe_mse"
   ]
  },
  {
   "cell_type": "code",
   "execution_count": 60,
   "metadata": {},
   "outputs": [
    {
     "data": {
      "text/plain": [
       "223412.16055160537"
      ]
     },
     "execution_count": 60,
     "metadata": {},
     "output_type": "execute_result"
    }
   ],
   "source": [
    "#predict for ElasticNet\n",
    "y_preds=enet.predict(z_test)\n",
    "enet_mse=metrics.mean_squared_error(y_test,y_preds)**0.5\n",
    "enet_mse"
   ]
  },
  {
   "cell_type": "code",
   "execution_count": 77,
   "metadata": {},
   "outputs": [
    {
     "data": {
      "text/plain": [
       "55361070.48287203"
      ]
     },
     "execution_count": 77,
     "metadata": {},
     "output_type": "execute_result"
    }
   ],
   "source": [
    "#predict for ElasticNet without Polynomial Features\n",
    "y_preds=enet_pipe.predict(z_test)\n",
    "enet_pipe_mse=metrics.mean_squared_error(y_test,y_preds)**0.5\n",
    "enet_pipe_mse"
   ]
  },
  {
   "cell_type": "code",
   "execution_count": 90,
   "metadata": {},
   "outputs": [],
   "source": [
    "#Note I did NOT include the enet_mse because it is too similar on a barchart to enet_mse\n",
    "alg='feamod','ridge1','ridge10','ridge_cv','lasso_cv','lasso_pipe','enet'\n",
    "method=feamod_mse,ridge1_mse,ridge10_mse,ridge_cv_mse,lasso_cv_mse,lasso_pipe_mse,enet_mse\n",
    "pred_full=pd.DataFrame()\n",
    "pred_full['algorithm'] = alg\n",
    "pred_full['mse'] = method"
   ]
  },
  {
   "cell_type": "code",
   "execution_count": 89,
   "metadata": {},
   "outputs": [
    {
     "data": {
      "image/png": "[encoded data removed]",
      "text/plain": [
       "<Figure size 432x288 with 1 Axes>"
      ]
     },
     "metadata": {
      "needs_background": "light"
     },
     "output_type": "display_data"
    }
   ],
   "source": [
    "sns.barplot(pred_full['mse'], pred_full['algorithm'])\n",
    "plt.title('Comparison of all viable algorithms ');"
   ]
  },
  {
   "cell_type": "code",
   "execution_count": 83,
   "metadata": {},
   "outputs": [],
   "source": [
    "alg='feamod','ridge1','ridge10','ridge_cv','lasso_cv','lasso_pipe'\n",
    "method=feamod_mse,ridge1_mse,ridge10_mse,ridge_cv_mse,lasso_cv_mse,lasso_pipe_mse\n",
    "pred=pd.DataFrame()"
   ]
  },
  {
   "cell_type": "code",
   "execution_count": 84,
   "metadata": {},
   "outputs": [],
   "source": [
    "pred['algorithm'] = alg\n",
    "pred['mse'] = method"
   ]
  },
  {
   "cell_type": "code",
   "execution_count": 93,
   "metadata": {},
   "outputs": [
    {
     "data": {
      "image/png": "[encoded data removed]",
      "text/plain": [
       "<Figure size 432x288 with 1 Axes>"
      ]
     },
     "metadata": {
      "needs_background": "light"
     },
     "output_type": "display_data"
    }
   ],
   "source": [
    "sns.barplot(pred['mse'], pred['algorithm'],)\n",
    "plt.xlim(22_000,30_000)\n",
    "plt.xlabel('variation in price prediction (US Dollars)')\n",
    "plt.title('Comparison of 5 algorithms\\n(excluding Elastic Net & starting at 28,000 for granularity)')\n",
    "plt.savefig('./PPP/compare_5alg.png',bbox_inches='tight');"
   ]
  },
  {
   "cell_type": "markdown",
   "metadata": {},
   "source": [
    "__Conclusion:__\n",
    "The worst perfoming model was an ElasticNet with a prediction mse of 223,412.  \n",
    "\n",
    "The best prediction and scoring test was for the Lasso CV pipe.  It used Polynomial Features and the Lasso CV() regulariztion method.  BUT, there were many, many convergence warnings.  And, the train score (0.921) was higher than the test score (0.912).  This probably means the polynomial features have caused overfitting, ie. too much variance.  To mention, the score for Lasso CV pipe WITHOUT Polynomial Features was at 0.872\n",
    "\n",
    "The best prediction rate came from the Lasso CV model that uses regulariztion from Lasso CV with alpha = 10. Meaning that on testing, the predictions were wrong by \\\\$28,882 between a range of \\\\$12,789 and \\\\$555,000\n",
    "\n",
    "It also had the best test score at 0.86651 (ie. 86.6% of the variation in y can be explained by the X variables.)\n"
   ]
  },
  {
   "cell_type": "code",
   "execution_count": null,
   "metadata": {},
   "outputs": [],
   "source": []
  }
 ],
 "metadata": {
  "kernelspec": {
   "display_name": "Python 3",
   "language": "python",
   "name": "python3"
  },
  "language_info": {
   "codemirror_mode": {
    "name": "ipython",
    "version": 3
   },
   "file_extension": ".py",
   "mimetype": "text/x-python",
   "name": "python",
   "nbconvert_exporter": "python",
   "pygments_lexer": "ipython3",
   "version": "3.7.4"
  }
 },
 "nbformat": 4,
 "nbformat_minor": 4
}
